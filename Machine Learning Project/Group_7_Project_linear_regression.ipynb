{
 "cells": [
  {
   "cell_type": "markdown",
   "metadata": {
    "id": "DgUPIsufOPuW"
   },
   "source": [
    "# High Impact Keywords that Maximize Profit"
   ]
  },
  {
   "cell_type": "markdown",
   "metadata": {
    "id": "eglcZ-U3Odgu"
   },
   "source": [
    "## Import data"
   ]
  },
  {
   "cell_type": "code",
   "execution_count": 1,
   "metadata": {
    "colab": {
     "base_uri": "https://localhost:8080/",
     "height": 56
    },
    "id": "3CNT0EOPoTnd",
    "outputId": "abd50752-ebfc-4c4a-ad0b-49f61790a99e"
   },
   "outputs": [],
   "source": [
    "# Tyler Powell\n",
    "\n",
    "import pandas as pd\n",
    "import numpy as np\n",
    "import matplotlib.pyplot as plt\n",
    "# Read in data \n",
    "data = pd.read_csv('tmdb_movies_data.csv')"
   ]
  },
  {
   "cell_type": "markdown",
   "metadata": {
    "id": "v05Zc_p2Ojar"
   },
   "source": [
    "## Process Data"
   ]
  },
  {
   "cell_type": "code",
   "execution_count": 2,
   "metadata": {
    "id": "nsGxKLERClCH"
   },
   "outputs": [],
   "source": [
    "# Tyler Powell\n",
    "\n",
    "# Fill in missing features\n",
    "num_cols = ['budget_adj', 'revenue_adj']\n",
    "for col in num_cols:\n",
    "        mean = data[col].mean()\n",
    "        data[col].fillna(mean, inplace=True)\n",
    "\n",
    "# Calculate difference between revenue_adj and budget_adj to create profit column\n",
    "data['profit'] = data['revenue_adj'] - data['budget_adj']\n",
    "data['profit'] = data['profit'].round()\n",
    "\n",
    "# Parse keywords column\n",
    "data['keyword_list'] = data['keywords'].str.split('|')\n",
    "\n",
    "# Replace missing values with empty string\n",
    "data['keywords'].fillna('no_value', inplace=True)\n",
    "\n",
    "# Save updata data to new CSV file\n",
    "data.to_csv('updated_data.csv', index=False)"
   ]
  },
  {
   "cell_type": "markdown",
   "metadata": {},
   "source": [
    "## Linear Regression"
   ]
  },
  {
   "cell_type": "code",
   "execution_count": 3,
   "metadata": {},
   "outputs": [],
   "source": [
    "# Tyler Powell\n",
    "\n",
    "#Linear Regression \n",
    "\n",
    "#create a method to measure the data\n",
    "#Each keyword will receive a score. If the keyword occurs in a movie where the profit is positive, \n",
    "#the score will go up .1, if the movie loses money it will go down .1. \n",
    "#Each score will then be used to calculate a keyword score for each movie, the sum of their keywords.\n",
    "\n",
    "#We will then attempt to map the keyword scores to the profit of a movie via linear regression\n",
    "\n",
    "import numpy as np\n",
    "from sklearn.linear_model import LinearRegression\n",
    "from sklearn.model_selection import train_test_split\n",
    "from math import isnan"
   ]
  },
  {
   "cell_type": "code",
   "execution_count": 4,
   "metadata": {},
   "outputs": [],
   "source": [
    "# Tyler Powell\n",
    "\n",
    "#Split the data\n",
    "train, test = train_test_split(data, test_size=0.2, random_state=42)"
   ]
  },
  {
   "cell_type": "code",
   "execution_count": 5,
   "metadata": {},
   "outputs": [],
   "source": [
    "#  Tyler Powell\n",
    "\n",
    "#Create the scores maps for the keywords training data\n",
    "keywordScoresTrain = {}\n",
    "\n",
    "for i in range(0, train.shape[0]):\n",
    "    profit = train.iloc[i][\"profit\"]\n",
    "    \n",
    "    if(type(train.iloc[i][\"keyword_list\"]) is list):\n",
    "        for word in train.iloc[i][\"keyword_list\"]:\n",
    "            if word not in keywordScoresTrain:\n",
    "                keywordScoresTrain[word] = 0.0\n",
    "            if(profit > 0):\n",
    "                keywordScoresTrain[word] += .1\n",
    "            elif(profit < 0):\n",
    "                keywordScoresTrain[word] -= .1"
   ]
  },
  {
   "cell_type": "code",
   "execution_count": 6,
   "metadata": {},
   "outputs": [],
   "source": [
    "# Tyler Powell\n",
    "#Create the scores maps for the keywords testing data\n",
    "\n",
    "keywordScoresTest = {}\n",
    "\n",
    "for i in range(test.shape[0]):\n",
    "    profit = test.iloc[i][\"profit\"]\n",
    "    \n",
    "    if(type(test.iloc[i][\"keyword_list\"]) is list):\n",
    "        for word in test.iloc[i][\"keyword_list\"]:\n",
    "            if word not in keywordScoresTest:\n",
    "                keywordScoresTest[word] = 0.0\n",
    "            if(profit > 0):\n",
    "                keywordScoresTest[word] += .1\n",
    "            elif(profit < 0):\n",
    "                keywordScoresTest[word] -= .1"
   ]
  },
  {
   "cell_type": "code",
   "execution_count": 7,
   "metadata": {},
   "outputs": [],
   "source": [
    "# Tyler Powell\n",
    "#Create the movie scores for the training data\n",
    "\n",
    "movieScoresTrain = []\n",
    "movieProfitsTrain = []\n",
    "\n",
    "for i in range(train.shape[0]):\n",
    "    keywordScoreTrain = 0\n",
    "    \n",
    "    \n",
    "    if(type(train.iloc[i][\"keyword_list\"]) is list):\n",
    "        for word in train.iloc[i][\"keyword_list\"]:\n",
    "            keywordScoreTrain += keywordScoresTrain[word]\n",
    "    \n",
    "        movieScoresTrain.append(keywordScoreTrain)\n",
    "        movieProfitsTrain.append(train.iloc[i][\"profit\"])"
   ]
  },
  {
   "cell_type": "code",
   "execution_count": 8,
   "metadata": {},
   "outputs": [],
   "source": [
    "# Tyler Powell\n",
    "#Create the movie scores for the testing data\n",
    "\n",
    "movieScoresTest = []\n",
    "movieProfitsTest = []\n",
    "\n",
    "for i in range(test.shape[0]):\n",
    "    keywordScoreTest = 0\n",
    "    \n",
    "    if(type(test.iloc[i][\"keyword_list\"]) is list):\n",
    "        for word in test.iloc[i][\"keyword_list\"]:\n",
    "            keywordScoreTest += keywordScoresTest[word]\n",
    "    \n",
    "        movieScoresTest.append(keywordScoreTest)\n",
    "        movieProfitsTest.append(test.iloc[i][\"profit\"])"
   ]
  },
  {
   "cell_type": "code",
   "execution_count": 9,
   "metadata": {},
   "outputs": [],
   "source": [
    "# Tyler Powell\n",
    "# transform the data\n",
    "x = np.array(movieScoresTrain).reshape((-1, 1))\n",
    "y = np.array(movieProfitsTrain)\n",
    "\n",
    "model = LinearRegression()"
   ]
  },
  {
   "cell_type": "code",
   "execution_count": 10,
   "metadata": {},
   "outputs": [
    {
     "name": "stdout",
     "output_type": "stream",
     "text": [
      "The fit model has the following attributes\n",
      "Coefficient: 0.04440346444680365\n",
      "Slope: [12120723.21433125]\n",
      "Intercept: 17195505.27828345\n"
     ]
    }
   ],
   "source": [
    "# Tyler Powell\n",
    "#fit the model and view the initial model values\n",
    "model = LinearRegression().fit(x, y)\n",
    "\n",
    "\n",
    "coef = model.score(x,y)\n",
    "slope = model.coef_\n",
    "intercept = model.intercept_\n",
    "print(\"The fit model has the following attributes\")\n",
    "print(f\"Coefficient: {coef}\")\n",
    "print(f\"Slope: {slope}\")\n",
    "print(f\"Intercept: {intercept}\")"
   ]
  },
  {
   "cell_type": "code",
   "execution_count": 11,
   "metadata": {},
   "outputs": [],
   "source": [
    "# Tyler Powell\n",
    "#Create the predictions of profits\n",
    "# create predicitions\n",
    "\n",
    "predicting_x = np.array(movieScoresTest).reshape((-1,1))\n",
    "predicted_profits = model.predict(predicting_x)"
   ]
  },
  {
   "cell_type": "code",
   "execution_count": 12,
   "metadata": {},
   "outputs": [
    {
     "data": {
      "image/png": "[encoded data removed]",
      "text/plain": [
       "<Figure size 640x480 with 1 Axes>"
      ]
     },
     "metadata": {},
     "output_type": "display_data"
    }
   ],
   "source": [
    "# Tyler Powell\n",
    "#plot the comparison\n",
    "\n",
    "import matplotlib.pyplot as plt\n",
    "\n",
    "\n",
    "plt.ylabel('Profits')\n",
    "plt.xlabel('Keyword Scores')\n",
    "plt.title(\"predictions vs actual profits\")\n",
    "plt.scatter( movieScoresTest,movieProfitsTest,)\n",
    "plt.plot(predicting_x, predicted_profits, 'r', linewidth=3)\n",
    "plt.show()"
   ]
  },
  {
   "cell_type": "code",
   "execution_count": 14,
   "metadata": {},
   "outputs": [
    {
     "name": "stdout",
     "output_type": "stream",
     "text": [
      "In this model our MSE was 2.4744624080208276e+16\n",
      "\n",
      "This large value for MSE shows us that the correlation in this model of keywords having an impact on movie profits likely does not have a direct impact on the amount of money made by a film.\n"
     ]
    }
   ],
   "source": [
    "# Tyler Powell\n",
    "#Viewing error for the model\n",
    "\n",
    "summedValue = 0\n",
    "\n",
    "for i in range (0,len(movieProfitsTest)): \n",
    "    diff = movieProfitsTest[i] - predicted_profits.flatten()[i]\n",
    "    diffSquared = diff**2  \n",
    "    summedValue = summedValue + diffSquared  \n",
    "\n",
    "mse = summedValue/len(movieProfitsTest)\n",
    "\n",
    "print(f\"In this model our MSE was {mse}\")\n",
    "\n",
    "print(\"\\nThis large value for MSE shows us that the correlation in this model of keywords having an impact on movie profits likely does not have a direct impact on the amount of money made by a film.\")"
   ]
  }
 ],
 "metadata": {
  "colab": {
   "provenance": []
  },
  "kernelspec": {
   "display_name": "Python 3 (ipykernel)",
   "language": "python",
   "name": "python3"
  },
  "language_info": {
   "codemirror_mode": {
    "name": "ipython",
    "version": 3
   },
   "file_extension": ".py",
   "mimetype": "text/x-python",
   "name": "python",
   "nbconvert_exporter": "python",
   "pygments_lexer": "ipython3",
   "version": "3.10.7"
  }
 },
 "nbformat": 4,
 "nbformat_minor": 4
}
